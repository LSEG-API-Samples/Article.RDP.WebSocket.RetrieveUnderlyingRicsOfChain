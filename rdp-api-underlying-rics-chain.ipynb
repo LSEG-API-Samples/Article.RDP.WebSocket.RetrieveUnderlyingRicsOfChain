{
 "cells": [
  {
   "cell_type": "markdown",
   "id": "87525eac",
   "metadata": {},
   "source": [
    "# Retrieve underlying RICs of chain RIC\n",
    "\n",
    "## Method 2) Get chain constituents with Refinitiv Data Platform API\n",
    "Here comes an easier and simpler way! with only one endpoint in RDP API, we can retrieve constituent lists of Chain RIC in one call (not counting a call to retrieve access token though). The example of this API call for this endpoint can be found in the API Playground: /data/pricing/chains/v1/\n",
    "\n",
    "With this method, we can retrieve the chain constituents list with just one API call instead of looping through each Chain Record and sending requests to the server multiple times. We also don't need to use WebSocket to make a connection to the Real-time platform so no need to implement the message handler functions. Lastly, we don't have to know the chain structure and handle each chain's record template because this endpoint is already handling it for us!"
   ]
  },
  {
   "cell_type": "code",
   "execution_count": 1,
   "id": "c9798e48",
   "metadata": {},
   "outputs": [],
   "source": [
    "import rdpToken\n",
    "import http.client\n",
    "import json\n",
    "import time\n",
    "\n",
    "base_ric = '0#.FTSE'\n",
    "\n",
    "def get_underlying_rics_rdp():\n",
    "    try:\n",
    "        auth_token = rdpToken.getToken()\n",
    "        \n",
    "        print(f'Retrieving underlying RICs of chain RIC: ', base_ric)\n",
    "        conn = http.client.HTTPSConnection(\"api.refinitiv.com\")\n",
    "        payload = ''\n",
    "        headers = {\n",
    "            'Authorization': 'Bearer ' + auth_token\n",
    "        }\n",
    "        conn.request('GET', f'/data/pricing/chains/v1/?universe={base_ric}', payload, headers)\n",
    "        r = conn.getresponse()\n",
    "        data = r.read()\n",
    "\n",
    "        data = json.loads(data.decode(\"utf-8\"))\n",
    "\n",
    "    except requests.exceptions.RequestException as e:\n",
    "        print('Refinitiv Data Platform authentication exception failure:', e)\n",
    "\n",
    "    if r.status == 200:\n",
    "        print('Underlying RICs of chain are successfully retrieved')\n",
    "\n",
    "    elif r.status in [400, 401, 403, 404, 410, 451, 503]:\n",
    "        print('Error retrieving underlying RICs (to be retried):', r.status, r.reason)\n",
    "        time.sleep(5)\n",
    "        return get_underlying_rics_rdp()\n",
    "\n",
    "    elif data == b'':\n",
    "        print('Error retrieving underlying RICs (to be retried): get empty response')\n",
    "        time.sleep(5)\n",
    "        return get_underlying_rics_rdp()\n",
    "\n",
    "    else:\n",
    "        # Retry the request to the API gateway\n",
    "        print('Retrieval of underlying RICs of chain HTTP code:', r.status, r.reason)\n",
    "        time.sleep(5)\n",
    "        print('Retry change request')\n",
    "        return get_underlying_rics_rdp()\n",
    "    return data"
   ]
  },
  {
   "cell_type": "code",
   "execution_count": 2,
   "id": "37632880",
   "metadata": {},
   "outputs": [
    {
     "name": "stdout",
     "output_type": "stream",
     "text": [
      "Existing token read from: token.txt\n",
      "Retrieving underlying RICs of chain RIC:  0#.FTSE\n",
      "Underlying RICs of chain are successfully retrieved\n",
      "102 underlying RICs are retrieved, which are\n",
      "['.FTSE', '.AD.FTSE', 'AAF.L', 'AAL.L', 'ABDN.L', 'ABF.L', 'ADML.L', 'AHT.L', 'ANTO.L', 'AUTOA.L', 'AV.L', 'AVST.L', 'AVV.L', 'AZN.L', 'BAES.L', 'BARC.L', 'BATS.L', 'BDEV.L', 'BKGH.L', 'BLND.L', 'BMEB.L', 'BNZL.L', 'BP.L', 'BRBY.L', 'BT.L', 'CCH.L', 'CNA.L', 'CPG.L', 'CRDA.L', 'CRH.L', 'DCC.L', 'DGE.L', 'DPH.L', 'EDV.L', 'ENT.L', 'EXPN.L', 'FLTRF.L', 'FRES.L', 'GLEN.L', 'GSK.L', 'HIK.L', 'HLMA.L', 'HLN.L', 'HRGV.L', 'HSBA.L', 'HWDN.L', 'ICAG.L', 'ICP.L', 'IHG.L', 'III.L', 'IMB.L', 'INF.L', 'ITRK.L', 'JD.L', 'KGF.L', 'LAND.L', 'LGEN.L', 'LLOY.L', 'LSEG.L', 'MGGT.L', 'MNDI.L', 'MNG.L', 'MRON.L', 'NG.L', 'NWG.L', 'NXT.L', 'OCDO.L', 'PHNX.L', 'PRU.L', 'PSHP.L', 'PSN.L', 'PSON.L', 'REL.L', 'RIO.L', 'RKT.L', 'RMV.L', 'RR.L', 'RS1R.L', 'RTO.L', 'SBRY.L', 'SDR.L', 'SGE.L', 'SGRO.L', 'SHEL.L', 'SJP.L', 'SKG.L', 'SMDS.L', 'SMIN.L', 'SMT.L', 'SN.L', 'SPX.L', 'SSE.L', 'STAN.L', 'SVT.L', 'TSCO.L', 'TW.L', 'ULVR.L', 'UTG.L', 'UU.L', 'VOD.L', 'WPP.L', 'WTB.L']\n"
     ]
    }
   ],
   "source": [
    "if __name__ == \"__main__\":\n",
    "    data = get_underlying_rics_rdp()\n",
    "    print(str(len(data['data']['constituents'])) + ' underlying RICs are retrieved, which are')\n",
    "    print(data['data']['constituents'])"
   ]
  },
  {
   "cell_type": "markdown",
   "id": "38570f04",
   "metadata": {},
   "source": [
    "## Thank you"
   ]
  }
 ],
 "metadata": {
  "kernelspec": {
   "display_name": "Python 3 (ipykernel)",
   "language": "python",
   "name": "python3"
  },
  "language_info": {
   "codemirror_mode": {
    "name": "ipython",
    "version": 3
   },
   "file_extension": ".py",
   "mimetype": "text/x-python",
   "name": "python",
   "nbconvert_exporter": "python",
   "pygments_lexer": "ipython3",
   "version": "3.9.12"
  }
 },
 "nbformat": 4,
 "nbformat_minor": 5
}
