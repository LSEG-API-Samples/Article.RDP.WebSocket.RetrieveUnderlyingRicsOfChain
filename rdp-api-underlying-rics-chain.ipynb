{
 "cells": [
  {
   "cell_type": "markdown",
   "id": "87525eac",
   "metadata": {},
   "source": [
    "# Retrieve underlying RICs of chain RIC\n",
    "\n",
    "## Method 2) Get chain constituents with Refinitiv Data Platform API\n",
    "Here comes an easier and simpler way! with only one endpoint in RDP API, we can retrieve constituent lists of Chain RIC in one call (not counting a call to retrieve access token though). The example of this API call for this endpoint can be found in the API Playground: /data/pricing/chains/v1/\n",
    "\n",
    "With this method, we can retrieve the chain constituents list with just one API call instead of looping through each Chain Record and sending requests to the server multiple times. We also don't need to use WebSocket to make a connection to the Real-time platform so no need to implement the message handler functions. Lastly, we don't have to know the chain structure and handle each chain's record template because this endpoint is already handling it for us!"
   ]
  },
  {
   "cell_type": "code",
   "execution_count": 3,
   "id": "c9798e48",
   "metadata": {},
   "outputs": [],
   "source": [
    "import rdpToken\n",
    "import http.client\n",
    "import json\n",
    "import time\n",
    "\n",
    "def get_underlying_rics_rdp(base_ric):\n",
    "    try:\n",
    "        auth_token = rdpToken.getToken()\n",
    "        \n",
    "        print(f'Retrieving underlying RICs of chain RIC: ', base_ric)\n",
    "        conn = http.client.HTTPSConnection(\"api.refinitiv.com\")\n",
    "        payload = ''\n",
    "        headers = {\n",
    "            'Authorization': 'Bearer ' + auth_token\n",
    "        }\n",
    "        conn.request('GET', f'/data/pricing/chains/v1/?universe={base_ric}&limit=100', payload, headers)\n",
    "        r = conn.getresponse()\n",
    "        data = r.read()\n",
    "\n",
    "        data = json.loads(data.decode(\"utf-8\"))\n",
    "\n",
    "    except requests.exceptions.RequestException as e:\n",
    "        print('Refinitiv Data Platform authentication exception failure:', e)\n",
    "\n",
    "    if r.status == 200:\n",
    "        print('Underlying RICs of chain are successfully retrieved')\n",
    "\n",
    "    elif r.status in [400, 401, 403, 404, 410, 451, 503]:\n",
    "        print('Error retrieving underlying RICs (to be retried):', r.status, r.reason)\n",
    "        time.sleep(5)\n",
    "        return get_underlying_rics_rdp()\n",
    "\n",
    "    elif data == b'':\n",
    "        print('Error retrieving underlying RICs (to be retried): get empty response')\n",
    "        time.sleep(5)\n",
    "        return get_underlying_rics_rdp()\n",
    "\n",
    "    else:\n",
    "        # Retry the request to the API gateway\n",
    "        print('Retrieval of underlying RICs of chain HTTP code:', r.status, r.reason)\n",
    "        time.sleep(5)\n",
    "        print('Retry change request')\n",
    "        return get_underlying_rics_rdp()\n",
    "    return data"
   ]
  },
  {
   "cell_type": "code",
   "execution_count": 4,
   "id": "37632880",
   "metadata": {},
   "outputs": [
    {
     "name": "stdout",
     "output_type": "stream",
     "text": [
      "Existing token read from: token.txt\n",
      "Retrieving underlying RICs of chain RIC:  0#.FTSE\n",
      "Underlying RICs of chain are successfully retrieved\n",
      "102 underlying RICs are retrieved, which are\n",
      "['ABF.L', 'BAES.L', 'AZN.L', 'BARC.L', 'AAL.L', 'AV.L', '.FTSE', 'AAF.L', '.AD.FTSE', 'AHT.L', 'AUTOA.L', 'ANTO.L', 'ABDN.L', 'ADML.L', 'BNZL.L', 'BMEB.L', 'CCH.L', 'CNA.L', 'BRBY.L', 'BP.L', 'CRDA.L', 'BLND.L', 'BEZG.L', 'CPG.L', 'BT.L', 'BATS.L', 'BKGH.L', 'BDEV.L', 'FRES.L', 'GSK.L', 'GLEN.L', 'FRAS.L', 'DGE.L', 'FCIT.L', 'FLTRF.L', 'CRH.L', 'EXPN.L', 'HLMA.L', 'CTEC.L', 'EDV.L', 'ENT.L', 'DCC.L', 'HSBA.L', 'ICAG.L', 'IHG.L', 'KGF.L', 'IMB.L', 'ITRK.L', 'HLN.L', 'HSX.L', 'III.L', 'JMAT.L', 'JD.L', 'LAND.L', 'HRGV.L', 'INF.L', 'LLOY.L', 'LGEN.L', 'NWG.L', 'MNG.L', 'PRU.L', 'NG.L', 'PSHP.L', 'PHNX.L', 'PSN.L', 'MNDI.L', 'OCDO.L', 'MRON.L', 'LSEG.L', 'NXT.L', 'REL.L', 'SJP.L', 'SHEL.L', 'RS1R.L', 'RR.L', 'RIO.L', 'PSON.L', 'SGE.L', 'RKT.L', 'RMV.L', 'SDR.L', 'SBRY.L', 'SGRO.L', 'RTO.L', 'SPX.L', 'SSE.L', 'UTG.L', 'TW.L', 'SMDS.L', 'SMIN.L', 'ULVR.L', 'SN.L', 'SKG.L', 'SVT.L', 'TSCO.L', 'UU.L', 'SMT.L', 'STAN.L', 'WTB.L', 'WPP.L', 'WEIR.L', 'VOD.L']\n"
     ]
    }
   ],
   "source": [
    "if __name__ == \"__main__\":\n",
    "    base_ric = '0#.FTSE'\n",
    "    data = get_underlying_rics_rdp(base_ric)\n",
    "    print(str(len(data['data']['constituents'])) + ' underlying RICs are retrieved, which are')\n",
    "    print(data['data']['constituents'])"
   ]
  },
  {
   "cell_type": "markdown",
   "id": "38570f04",
   "metadata": {},
   "source": [
    "## Thank you"
   ]
  }
 ],
 "metadata": {
  "kernelspec": {
   "display_name": "Python 3 (ipykernel)",
   "language": "python",
   "name": "python3"
  },
  "language_info": {
   "codemirror_mode": {
    "name": "ipython",
    "version": 3
   },
   "file_extension": ".py",
   "mimetype": "text/x-python",
   "name": "python",
   "nbconvert_exporter": "python",
   "pygments_lexer": "ipython3",
   "version": "3.9.12"
  }
 },
 "nbformat": 4,
 "nbformat_minor": 5
}
